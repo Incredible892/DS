{
 "cells": [
  {
   "cell_type": "code",
   "execution_count": 1,
   "id": "f9822d6c-c19b-46f9-bd68-eeee4eec607e",
   "metadata": {},
   "outputs": [
    {
     "name": "stdout",
     "output_type": "stream",
     "text": [
      "     v1                                                 v2 Unnamed: 2  \\\n",
      "0   ham  Go until jurong point, crazy.. Available only ...        NaN   \n",
      "1   ham                      Ok lar... Joking wif u oni...        NaN   \n",
      "2  spam  Free entry in 2 a wkly comp to win FA Cup fina...        NaN   \n",
      "3   ham  U dun say so early hor... U c already then say...        NaN   \n",
      "4   ham  Nah I don't think he goes to usf, he lives aro...        NaN   \n",
      "\n",
      "  Unnamed: 3 Unnamed: 4  \n",
      "0        NaN        NaN  \n",
      "1        NaN        NaN  \n",
      "2        NaN        NaN  \n",
      "3        NaN        NaN  \n",
      "4        NaN        NaN  \n",
      "Accuracy: 97.85%\n",
      "This email is likely spam.\n"
     ]
    }
   ],
   "source": [
    "import pandas as pd\n",
    "from sklearn.feature_extraction.text import CountVectorizer\n",
    "from sklearn.model_selection import train_test_split\n",
    "from sklearn.naive_bayes import MultinomialNB\n",
    "from sklearn.metrics import accuracy_score\n",
    "\n",
    "df = pd.read_excel('Spam Email Detection.xlsx')\n",
    "print(df.head())\n",
    "\n",
    "# Function to clean and preprocess email text\n",
    "def clean_email(text):\n",
    "    if not isinstance(text, str):\n",
    "        text = str(text)\n",
    "    text = text.lower()\n",
    "    text = ''.join([c for c in text if c.isalnum() or c.isspace()])\n",
    "    return text.strip()\n",
    "\n",
    "df['v2'] = df['v2'].apply(clean_email)\n",
    "vectorizer = CountVectorizer(stop_words='english')\n",
    "X = vectorizer.fit_transform(df['v2'])\n",
    "\n",
    "# Split dataset into training and testing sets\n",
    "X_train, X_test, y_train, y_test = train_test_split(X, df['v1'], test_size=0.2, random_state=42)\n",
    "\n",
    "# Multinomial Naive Bayes classifier\n",
    "nb_classifier = MultinomialNB()\n",
    "\n",
    "# Train the classifier\n",
    "nb_classifier.fit(X_train, y_train)\n",
    "\n",
    "# Predictions on the test set\n",
    "y_pred = nb_classifier.predict(X_test)\n",
    "\n",
    "# Calculate accuracy of the model\n",
    "accuracy = accuracy_score(y_test, y_pred)\n",
    "print(f\"Accuracy: {accuracy * 100:.2f}%\")\n",
    "\n",
    "# Predict function\n",
    "def predict_spam(email_content):\n",
    "    cleaned_content = clean_email(email_content)\n",
    "    vectorized_content = vectorizer.transform([cleaned_content])\n",
    "    prediction = nb_classifier.predict(vectorized_content)[0]\n",
    "    return prediction\n",
    "\n",
    "email_content = \"HOT LIVE FANTASIES call now 08707509020 Just 20p per min NTT Ltd, PO Box 1327 Croydon CR9 5WB 0870..k\"\n",
    "prediction = predict_spam(email_content)\n",
    "if prediction == 'spam':\n",
    "    print(\"This email is likely spam.\")\n",
    "else:\n",
    "    print(\"This email is not spam.\")\n"
   ]
  },
  {
   "cell_type": "code",
   "execution_count": 9,
   "id": "0fcbfa01-1580-4abc-a238-3ca072df6287",
   "metadata": {},
   "outputs": [
    {
     "name": "stdin",
     "output_type": "stream",
     "text": [
      "Enter the row number for prediction (starting from 0): 226\n"
     ]
    },
    {
     "name": "stdout",
     "output_type": "stream",
     "text": [
      "will u meet ur dream partner soon is ur career off 2 a flyng start 2 find out free txt horo followed by ur star sign e g horo aries\n",
      "\n",
      "The content is spam.\n"
     ]
    }
   ],
   "source": [
    "# Function to predict based on user provided row number\n",
    "def predict_spam_by_row_number(df, row_number):\n",
    "    # Clean 'v2' column for the specified row number\n",
    "    cleaned_content = clean_email(df['v2'].iloc[row_number])\n",
    "    print(cleaned_content)\n",
    "    print()\n",
    "    \n",
    "    # Initialize CountVectorizer for Bag-of-Words representation\n",
    "    vectorizer = CountVectorizer(stop_words='english')\n",
    "    X = vectorizer.fit_transform([cleaned_content])\n",
    "\n",
    "    # 'v1' column contains labels (spam or ham)\n",
    "    y = df['v1'].iloc[row_number]\n",
    "\n",
    "    # Multinomial Naive Bayes classifier\n",
    "    nb_classifier = MultinomialNB()\n",
    "    nb_classifier.fit(X, [y])\n",
    "    vectorized_content = vectorizer.transform([cleaned_content])\n",
    "    prediction = nb_classifier.predict(vectorized_content)[0]\n",
    "    \n",
    "    if prediction == 'spam':\n",
    "        return \"spam\"\n",
    "    else:\n",
    "        return \"not spam\"\n",
    "        \n",
    "# Enter the row number for prediction\n",
    "row_number = int(input(\"Enter the row number for prediction (starting from 0):\"))\n",
    "result = predict_spam_by_row_number(df, row_number)\n",
    "print(f\"The content is {result}.\")\n"
   ]
  }
 ],
 "metadata": {
  "kernelspec": {
   "display_name": "Python 3 (ipykernel)",
   "language": "python",
   "name": "python3"
  },
  "language_info": {
   "codemirror_mode": {
    "name": "ipython",
    "version": 3
   },
   "file_extension": ".py",
   "mimetype": "text/x-python",
   "name": "python",
   "nbconvert_exporter": "python",
   "pygments_lexer": "ipython3",
   "version": "3.12.4"
  }
 },
 "nbformat": 4,
 "nbformat_minor": 5
}
